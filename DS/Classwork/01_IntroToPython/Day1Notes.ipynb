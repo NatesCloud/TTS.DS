{
 "cells": [
  {
   "cell_type": "markdown",
   "metadata": {},
   "source": [
    "## Travis' Notes 2020.08.18"
   ]
  },
  {
   "cell_type": "code",
   "execution_count": 1,
   "metadata": {},
   "outputs": [
    {
     "name": "stdout",
     "output_type": "stream",
     "text": [
      "Lower: [0, 1, 2, 3, 4]\n",
      "Upper: [5, 6, 7, 8, 9]\n"
     ]
    }
   ],
   "source": [
    "#comments marked by hashtag/lb sign. Everything on that line after the  hash is ignored.\n",
    "#set the midpoint at 5\n",
    "midpoint = 5\n",
    "\n",
    "#make two empty lists\n",
    "lower = []; upper = []\n",
    "\n",
    "#split the numbers from 0-9 into lower (below 5) and upper (5 and above)\n",
    "for i in range(10):\n",
    "    if (i<midpoint):\n",
    "        lower.append(i)#appending i to lower list\n",
    "    else:\n",
    "        upper.append(i)\n",
    "\n",
    "print(\"Lower:\", lower)\n",
    "print(\"Upper:\", upper)"
   ]
  },
  {
   "cell_type": "code",
   "execution_count": null,
   "metadata": {},
   "outputs": [],
   "source": []
  }
 ],
 "metadata": {
  "kernelspec": {
   "display_name": "Python 3",
   "language": "python",
   "name": "python3"
  },
  "language_info": {
   "codemirror_mode": {
    "name": "ipython",
    "version": 3
   },
   "file_extension": ".py",
   "mimetype": "text/x-python",
   "name": "python",
   "nbconvert_exporter": "python",
   "pygments_lexer": "ipython3",
   "version": "3.7.6"
  }
 },
 "nbformat": 4,
 "nbformat_minor": 4
}
