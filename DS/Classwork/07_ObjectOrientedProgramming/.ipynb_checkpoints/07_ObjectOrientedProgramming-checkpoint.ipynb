{
 "cells": [
  {
   "cell_type": "markdown",
   "metadata": {},
   "source": [
    "##### Travis' Notes 2020.09.10"
   ]
  },
  {
   "cell_type": "markdown",
   "metadata": {},
   "source": [
    "# Objects and classes"
   ]
  },
  {
   "cell_type": "markdown",
   "metadata": {},
   "source": [
    "Python is an object-oriented programming language like Java\n",
    "and C++.\n",
    "But unlike Java, Python doesn’t force you to use classes,\n",
    "inheritance and methods.\n",
    "If you like, you can also choose the structural programming\n",
    "paradigm with functions and modules.\n",
    "\n",
    "Every value in Python is an object.\n",
    "Objects are a way to combine data and the functions that\n",
    "handle that data.\n",
    "This combination is called *encapsulation*.\n",
    "The data items and functions of objects are called *attributes*,\n",
    "and in particular the function attributes are called *methods*.\n",
    "For example, the operator `+` on integers calls a method of\n",
    "integers, and the operator `+` on strings calls a method of\n",
    "strings.\n",
    "\n",
    "Functions, modules, methods, classes, etc are all first class\n",
    "objects. This means that these objects can be\n",
    "\n",
    "* stored in a container\n",
    "* passed to a function as a parameter\n",
    "* returned by a function\n",
    "* bound to a variable\n",
    "\n",
    "One can access an attribute of an object using the *dot\n",
    "operator*: `object.attribute`.\n",
    "For example: if `L` is a list, we can refer to the method `append`\n",
    "with `L.append`. The method call can look, for instance, like\n",
    "this: `L.append(4)`.\n",
    "Because also modules are objects in Python, we can interpret\n",
    "the expression `math.pi` as accessing the data attribute `pi` of\n",
    "module object `math`.\n",
    "\n",
    "Numbers like 2 and 100 are instances of type `int`. Similarly,\n",
    "`\"hello\"` is an instance of type `str`.\n",
    "When we write `s=set()`, we are actually creating a new\n",
    "instance of type `set`, and bind the resulting instance object to\n",
    "`s`.\n",
    "\n",
    "A user can define his own data types.\n",
    "These are called *classes*.\n",
    "A user can call these classes like they were functions, and they\n",
    "return a new instance object of that type.\n",
    "Classes can be thought as recipes for creating objects.\n",
    "\n",
    "An example of class definition:\n",
    "```python\n",
    "class MyClass(object):\n",
    "    \"\"\"Documentation string of the class\"\"\"\n",
    "\n",
    "    def __init__(self, param1, param2):\n",
    "        \"This initialises an instance of type ClassName\"\n",
    "        self.b = param1 # creates an instance attribute\n",
    "        c = param2      # creates a local variable of the function\n",
    "        # statements ...\n",
    "    \n",
    "    def f(self, param1):\n",
    "        \"\"\"This is a method of the class\"\"\"\n",
    "        # some statements\n",
    "    \n",
    "    a=1 # This creates a class attribute\n",
    "```\n",
    "\n",
    "The class definition starts with the `class` statement.\n",
    "With this statement you give a name for your new type, and\n",
    "also in parentheses list the base classes of your class.\n",
    "The next indented block is the *class body*.\n",
    "After the whole class body is read, a new type is created.\n",
    "Note that no instances are created yet.\n",
    "All the attributes and methods of the class are defined in the\n",
    "class body.\n",
    "\n",
    "The example class has two methods: `__init__` and `f`.\n",
    "Note that their first parameter is special: `self`. It\n",
    "corresponds to `this` variable of C++ or Java.\n",
    "`__init__`\n",
    "does the initialisation when an instance is created.\n",
    "At instantiation with `i=MyClass(2,3)` the parameters\n",
    "`param1` and `param2` are bound to values 2 and 3, respectively.\n",
    "Now that we have an instance `i`, we can call its method `f`\n",
    "with the dot operator: `i.f(1)`.\n",
    "The parameters of `f` are bound in the following way:\n",
    "`self=i` and `param1=1`.\n",
    "\n",
    "There are differences in how an assignment inside a class body\n",
    "creates variables.\n",
    "The attribute `a` is at class level and is common for all\n",
    "instances of the class `MyClass`.\n",
    "The variable `c` is a local variable of the function `__init__`, and\n",
    "cannot therefore be used outside the function.\n",
    "The attribute `b` is specific to each instance of `MyClass`. Note\n",
    "that `self` refers to the current instance.\n",
    "An example: for objects `x=MyClass(1,0)` and\n",
    "`y=MyClass(2,0)` we have `x.b != y.b`, but `x.a == y.a`.\n",
    "\n",
    "All methods of a class have a mandatory first parameter which\n",
    "refers to the instance on which you called the method.\n",
    "This parameter is usually named `self`.\n",
    "If you want to access the class attribute `a` from a method of\n",
    "the class, use the fully qualified form `MyClass.a`.\n",
    "The methods whose names both begin and end with two\n",
    "underscores are called *special methods*. For example, `__init__`\n",
    "is a special method. These methods will be discussed in detail\n",
    "later.\n",
    "\n",
    "### Instances\n",
    "\n",
    "We can create instances by calling a class like it were a\n",
    "function: `i = ClassName(...)`.\n",
    "Then parameters given in the call will be passed to the\n",
    "`__init__` function.\n",
    "In the `__init__` method you can create the instance specific\n",
    "attributes.\n",
    "If `__init__` is missing, we can create an instance without\n",
    "giving any parameters. As a consequence, the instance has no\n",
    "attributes.\n",
    "Later you can (re)bind attributes with the assignment\n",
    "`instance.attribute = new value`.\n",
    "\n",
    "If that attribute did not exist before, it will be added to the\n",
    "instance with the assigned value.\n",
    "In Python we really can add or delete attributes to/from an\n",
    "existing instance.\n",
    "This is possible because the attribute names and the\n",
    "corresponding values are actually stored in a dictionary.\n",
    "This dictionary is also an attribute of the instance and is\n",
    "called `dict`.\n",
    "Another standard attribute in addition to dict is called\n",
    "`__class__`. This attribute stores the class of the instance.\n",
    "That is, the type of the object"
   ]
  },
  {
   "cell_type": "markdown",
   "metadata": {},
   "source": [
    "### Attribute lookup\n",
    "\n",
    "Suppose `x` is an instance of class `X`, and we want to read an\n",
    "attribute `x.a`.\n",
    "The lookup has three phases:\n",
    "\n",
    "* First it is checked whether the attribute `a` is an attribute of\n",
    "the instance `x`\n",
    "* If not, then it is checked whether `a` is a class attribute of `x`’s\n",
    "class `X`\n",
    "* If not, then the base classes of `X` are checked\n",
    "\n",
    "If instead we want to bind the attribute `a`, things are much\n",
    "simpler.\n",
    "`x.a = value` will set the instance attribute.\n",
    "And `X.a = value` will set the class attribute.\n",
    "Note that if a base of `X`, the class `X`, and the instance `x` each\n",
    "have an attribute called `a`, then `x.a` hides `X.a`, and `X.a` hides\n",
    "the attribute of the base class."
   ]
  },
  {
   "cell_type": "markdown",
   "metadata": {},
   "source": [
    "# [Examples of Objects and Classes](https://www.learnpython.org/en/Classes_and_Objects)"
   ]
  },
  {
   "cell_type": "markdown",
   "metadata": {},
   "source": [
    "Objects are an encapsulation of variables and functions into a single entity. Objects get their variables and functions from classes. Classes are essentially a template to create your objects.\n",
    "\n",
    "A very basic class would look something like this:"
   ]
  },
  {
   "cell_type": "code",
   "execution_count": 1,
   "metadata": {},
   "outputs": [],
   "source": [
    "class MyClass:\n",
    "    variable = \"blah\"\n",
    "\n",
    "    def function(self):\n",
    "        print(\"This is a message inside the class.\")"
   ]
  },
  {
   "cell_type": "markdown",
   "metadata": {},
   "source": [
    "We'll explain why you have to include that \"self\" as a parameter a little bit later. First, to assign the above class(template) to an object you would do the following:"
   ]
  },
  {
   "cell_type": "code",
   "execution_count": 3,
   "metadata": {},
   "outputs": [
    {
     "name": "stdout",
     "output_type": "stream",
     "text": [
      "<__main__.MyClass object at 0x000001C58EAADAC8>\n"
     ]
    }
   ],
   "source": [
    "class MyClass:\n",
    "    variable = \"blah\"\n",
    "\n",
    "    def function(self):\n",
    "        print(\"This is a message inside the class.\")\n",
    "\n",
    "myobjectx = MyClass()\n",
    "print(myobjectx)"
   ]
  },
  {
   "cell_type": "markdown",
   "metadata": {},
   "source": [
    "Now the variable \"myobjectx\" holds an object of the class \"MyClass\" that contains the variable and the function defined within the class called \"MyClass\"."
   ]
  },
  {
   "cell_type": "markdown",
   "metadata": {},
   "source": [
    "## Accessing Object Variables"
   ]
  },
  {
   "cell_type": "markdown",
   "metadata": {},
   "source": [
    "To access the variable inside of the newly created object \"myobjectx\" you would do the following:"
   ]
  },
  {
   "cell_type": "code",
   "execution_count": 8,
   "metadata": {},
   "outputs": [
    {
     "name": "stdout",
     "output_type": "stream",
     "text": [
      "<__main__.MyClass object at 0x000001C58EA7AF88>\n"
     ]
    }
   ],
   "source": [
    "class MyClass:\n",
    "    variable = \"Is it Jackson? Or is it Gary?\"\n",
    "\n",
    "    def function(self):\n",
    "        print(\"This is a message inside the class.\")\n",
    "\n",
    "myobjectx = MyClass()\n",
    "\n",
    "myobjectx.variable\n",
    "print(myobjectx)"
   ]
  },
  {
   "cell_type": "markdown",
   "metadata": {},
   "source": [
    "So for instance the below would output the string \"blah\":"
   ]
  },
  {
   "cell_type": "code",
   "execution_count": 5,
   "metadata": {},
   "outputs": [
    {
     "name": "stdout",
     "output_type": "stream",
     "text": [
      "blah\n"
     ]
    }
   ],
   "source": [
    "class MyClass:\n",
    "    variable = \"blah\"\n",
    "\n",
    "    def function(self):\n",
    "        print(\"This is a message inside the class.\")\n",
    "\n",
    "myobjectx = MyClass()\n",
    "\n",
    "print(myobjectx.variable)"
   ]
  },
  {
   "cell_type": "markdown",
   "metadata": {},
   "source": [
    "You can create multiple different objects that are of the same class(have the same variables and functions defined). However, each object contains independent copies of the variables defined in the class. For instance, if we were to define another object with the \"MyClass\" class and then change the string in the variable above:"
   ]
  },
  {
   "cell_type": "code",
   "execution_count": 6,
   "metadata": {},
   "outputs": [
    {
     "name": "stdout",
     "output_type": "stream",
     "text": [
      "blah\n",
      "yackity\n"
     ]
    }
   ],
   "source": [
    "class MyClass:\n",
    "    variable = \"blah\"\n",
    "\n",
    "    def function(self):\n",
    "        print(\"This is a message inside the class.\")\n",
    "\n",
    "myobjectx = MyClass()\n",
    "myobjecty = MyClass()\n",
    "\n",
    "myobjecty.variable = \"yackity\"\n",
    "\n",
    "# Then print out both values\n",
    "print(myobjectx.variable)\n",
    "print(myobjecty.variable)"
   ]
  },
  {
   "cell_type": "markdown",
   "metadata": {},
   "source": [
    "## Accessing Object Functions"
   ]
  },
  {
   "cell_type": "markdown",
   "metadata": {},
   "source": [
    "To access a function inside of an object you use notation similar to accessing a variable:"
   ]
  },
  {
   "cell_type": "code",
   "execution_count": 7,
   "metadata": {},
   "outputs": [
    {
     "name": "stdout",
     "output_type": "stream",
     "text": [
      "This is a message inside the class.\n"
     ]
    }
   ],
   "source": [
    "class MyClass:\n",
    "    variable = \"blah\"\n",
    "\n",
    "    def function(self):\n",
    "        print(\"This is a message inside the class.\")\n",
    "\n",
    "myobjectx = MyClass()\n",
    "\n",
    "myobjectx.function()"
   ]
  },
  {
   "cell_type": "code",
   "execution_count": null,
   "metadata": {},
   "outputs": [],
   "source": []
  }
 ],
 "metadata": {
  "kernelspec": {
   "display_name": "Python 3",
   "language": "python",
   "name": "python3"
  },
  "language_info": {
   "codemirror_mode": {
    "name": "ipython",
    "version": 3
   },
   "file_extension": ".py",
   "mimetype": "text/x-python",
   "name": "python",
   "nbconvert_exporter": "python",
   "pygments_lexer": "ipython3",
   "version": "3.7.6"
  }
 },
 "nbformat": 4,
 "nbformat_minor": 4
}
