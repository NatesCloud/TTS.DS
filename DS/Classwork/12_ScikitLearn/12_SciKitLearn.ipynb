{
 "cells": [
  {
   "cell_type": "markdown",
   "metadata": {},
   "source": [
    "##### Travis' Notes 2020.09.29 - Taken from **[Marissa's GitHub](https://github.com/TTSMarissa/techtalentsouth/tree/master/datascience/python/12_mod_scikitlearn)**"
   ]
  },
  {
   "cell_type": "markdown",
   "metadata": {},
   "source": [
    "#### Resources:\n",
    "[Learning Scikit-Learn (Google AI Adventures)](https://www.youtube.com/watch?v=rvVkVsG49uU)\n",
    "[Real-World Python Machine Learning (Keith Galli)](https://www.youtube.com/watch?v=M9Itm95JzL0)\n",
    "[Scikit-Learn: Tutorials](https://scikit-learn.org/stable/tutorial/index.html)"
   ]
  },
  {
   "cell_type": "code",
   "execution_count": null,
   "metadata": {},
   "outputs": [],
   "source": []
  }
 ],
 "metadata": {
  "kernelspec": {
   "display_name": "Python 3",
   "language": "python",
   "name": "python3"
  },
  "language_info": {
   "codemirror_mode": {
    "name": "ipython",
    "version": 3
   },
   "file_extension": ".py",
   "mimetype": "text/x-python",
   "name": "python",
   "nbconvert_exporter": "python",
   "pygments_lexer": "ipython3",
   "version": "3.7.6"
  }
 },
 "nbformat": 4,
 "nbformat_minor": 4
}
