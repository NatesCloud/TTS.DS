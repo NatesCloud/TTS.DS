{
 "cells": [
  {
   "cell_type": "markdown",
   "metadata": {},
   "source": [
    "## Travis' Day 3 Homework (2020.09.01)"
   ]
  },
  {
   "cell_type": "markdown",
   "metadata": {},
   "source": [
    "### Exercise 1"
   ]
  },
  {
   "cell_type": "markdown",
   "metadata": {},
   "source": [
    "Guess a number between 1 to 9 given by the user"
   ]
  },
  {
   "cell_type": "code",
   "execution_count": 21,
   "metadata": {},
   "outputs": [
    {
     "name": "stdout",
     "output_type": "stream",
     "text": [
      "Guess a number between 1 and 10 until you get it right : 1\n",
      "Guess a number between 1 and 10 until you get it right : 2\n",
      "You guessed correct!\n"
     ]
    }
   ],
   "source": [
    "#Import Random Number Generator Library\n",
    "import random\n",
    "\n",
    "target_num, guess_num = random.randint(1, 10), 0\n",
    "while target_num != guess_num:\n",
    "    guess_num = int(input('Guess a number between 1 and 10 until you get it right : '))\n",
    "print('You guessed correct!')"
   ]
  },
  {
   "cell_type": "markdown",
   "metadata": {},
   "source": [
    "### Exercise 2"
   ]
  },
  {
   "cell_type": "markdown",
   "metadata": {},
   "source": [
    "Check the validity of password input by the user.\n",
    "\n",
    "Validation:\n",
    "At least 1 letter between [a-z] and 1 letter between [A-Z]\n",
    "\n",
    "At least 1 number between [0-9]\n",
    "\n",
    "At least 1 character from [$#@]\n",
    "\n",
    "Minimum length 6 characters\n",
    "\n",
    "Maximum length 16 characters\n"
   ]
  },
  {
   "cell_type": "code",
   "execution_count": 2,
   "metadata": {},
   "outputs": [
    {
     "name": "stdout",
     "output_type": "stream",
     "text": [
      "Input your password : 12345\n",
      "Not a Valid Password\n"
     ]
    }
   ],
   "source": [
    "#importing the regular expression library so we can use the search function\n",
    "import re\n",
    "\n",
    "p = input(\"Input your password : \") #inputting possible password as 'p'\n",
    "x = True #Setting the default as true as an -invalid- password\n",
    "while x:  \n",
    "    if (len(p)<6 or len(p)>16):\n",
    "        break\n",
    "    elif not re.search(\"[a-z]\",p):\n",
    "        break\n",
    "    elif not re.search(\"[0-9]\",p):\n",
    "        break\n",
    "    elif not re.search(\"[A-Z]\",p):\n",
    "        break\n",
    "    elif not re.search(\"[$#@]\",p):\n",
    "        break\n",
    "    elif re.search(\"\\s\",p):\n",
    "        break\n",
    "    else:\n",
    "        print(\"Valid Password\")\n",
    "        x = False\n",
    "        break\n",
    "\n",
    "if x:\n",
    "    print(\"Not a Valid Password\")\n"
   ]
  },
  {
   "cell_type": "markdown",
   "metadata": {},
   "source": [
    "### Exercise 3"
   ]
  },
  {
   "cell_type": "markdown",
   "metadata": {},
   "source": [
    "Get input of the age of 3 people by user and determine oldest and youngest among them"
   ]
  },
  {
   "cell_type": "code",
   "execution_count": 20,
   "metadata": {},
   "outputs": [
    {
     "name": "stdout",
     "output_type": "stream",
     "text": [
      "Enter the first person's name: Travis\n",
      "Now please enter their age: 29\n",
      "Enter the second person's name: Emmanuel\n",
      "Now please enter their age: 22\n",
      "Enter the third person's name: Drump\n",
      "Now please enter their age: 77\n",
      "Emmanuel is the youngest of the age 22 years\n",
      "Drump is the oldest of the age 77 years\n"
     ]
    }
   ],
   "source": [
    "#Emmanuel Dadzie's and Group 3's Dictionary Framework\n",
    "user1_name = input('Enter the first person\\'s name: ')\n",
    "user1_age = int(input('Now please enter their age: '))\n",
    "user2_name = input('Enter the second person\\'s name: ')\n",
    "user2_age = int(input('Now please enter their age: '))\n",
    "user3_name = input('Enter the third person\\'s name: ')\n",
    "user3_age = int(input('Now please enter their age: '))\n",
    "\n",
    "#Initially this dictionary was created to evaluate the oldest/youngest amongst them. This is still useful.\n",
    "dict_users ={}\n",
    "dict_users[user1_name] = user1_age\n",
    "dict_users[user2_name] = user2_age\n",
    "dict_users[user3_name] = user3_age\n",
    "\n",
    "\n",
    "\n",
    "#Emmanuel Dadzie's and Group 3's Answer\n",
    "for k, v in dict_users.items():\n",
    "    if v >= max(dict_users.values()):\n",
    "        print(f'{k} is the oldest of the age {v} years')\n",
    "    if v <= min(dict_users.values()):\n",
    "        print(f'{k} is the youngest of the age {v} years')"
   ]
  },
  {
   "cell_type": "markdown",
   "metadata": {},
   "source": [
    "### Exercise 4"
   ]
  },
  {
   "cell_type": "markdown",
   "metadata": {},
   "source": [
    "A student will not be allowed to sit in exam if his/her attendance is less than 75%.\n",
    "\n",
    "Take following input from user:\n",
    "\n",
    "Number of classes held.\n",
    "\n",
    "Number of classes attended.\n",
    "\n",
    "And print percentage of class attended.\n",
    "\n",
    "Is student is allowed to sit in exam or not?"
   ]
  },
  {
   "cell_type": "code",
   "execution_count": 20,
   "metadata": {},
   "outputs": [
    {
     "name": "stdout",
     "output_type": "stream",
     "text": [
      "Please enter the number of classes held: 10\n",
      "Thank you.\n",
      "Now please enter the number of classes attended to determine if you will be allowed to sit into the exam: 7\n",
      "You have attended 7 classes out of the total 10 classes held. You have an attendence rate of 70% of classes attended.\n",
      "Since you have attended less than 75% of the classes held, you will not be allowed to sit in on the exam. Please attend classes more regularly in the future.\n"
     ]
    }
   ],
   "source": [
    "#Take input on Number of Classes Held, and number of classes attended:\n",
    "class_total = input('Please enter the number of classes held: ')\n",
    "class_attend = input('Thank you. Now please enter the number of classes attended to determine if you will be allowed to sit into the exam: ')\n",
    "\n",
    "#creating a percentage of classes attended divided by the number of classes held\n",
    "attendprop = int(int(class_attend)/int(class_total)*100)\n",
    "aprop = str(attendprop)\n",
    "print ('You have attended ' + class_attend + ' classes out of the total ' + class_total + ' classes held. You have an attendence rate of ' + aprop + '% of classes attended.')\n",
    "if attendprop <0 or attendprop > 100:\n",
    "    print('You have entered an impossible percentage of classes attended')\n",
    "elif attendprop >=75 and attendprop <= 100:\n",
    "    print('Since you have attended at least 75% of the classes held, you will be allowed to sit in on the exam.')\n",
    "elif attendprop <75 and attendprop >=0:\n",
    "    print('Since you have attended less than 75% of the classes held, you will not be allowed to sit in on the exam. Please attend classes more regularly in the future.')"
   ]
  },
  {
   "cell_type": "markdown",
   "metadata": {},
   "source": [
    "### Exercise 5"
   ]
  },
  {
   "cell_type": "markdown",
   "metadata": {},
   "source": [
    "Get an integer N from the user and perform the following actions:\n",
    "\n",
    "if N is odd, print \"weird\".\n",
    "\n",
    "if N is even and in the inclusive range of 2 to 5, print \"Not Weird\".\n",
    "\n",
    "if N is even and in the inclusive range of 6 to 20, print \"Weird\".\n",
    "\n",
    "if N is even and greater than 20, print \"Not Weird\"."
   ]
  },
  {
   "cell_type": "code",
   "execution_count": 16,
   "metadata": {},
   "outputs": [
    {
     "name": "stdout",
     "output_type": "stream",
     "text": [
      "Please enter an integer N:18\n",
      "Not weird, N seems to be even and in the inclusive range of 6 to 20\n"
     ]
    }
   ],
   "source": [
    "#Get an integer N from the user\n",
    "intN = int(input('Please enter an integer N:'))\n",
    "\n",
    "#if N is odd, print \"weird\"\n",
    "if(intN % 2 != 0):\n",
    "    print('Weird, N seems to be Odd!')\n",
    "\n",
    "#if N is even and in the inclusive range of 2 to 5, print \"Not Weird\"\n",
    "elif(intN % 2 == 0) and (intN >=2 ) and (intN <= 5):\n",
    "    print('Not weird, N seems to be even and in the inclusive range of 2 to 5')\n",
    "\n",
    "#if N is even and in the inclusive range of 6 to 20, print \"Weird\"\n",
    "elif(intN % 2 == 0) and (intN >=6 ) and (intN <= 20):\n",
    "    print('Not weird, N seems to be even and in the inclusive range of 6 to 20')\n",
    "    \n",
    "#if N is even and greater than 20, print \"Not Weird\"\n",
    "elif(intN % 2 == 0) and (intN >20):\n",
    "    print('Not weird, N seems to be even and is greater than 20')"
   ]
  }
 ],
 "metadata": {
  "kernelspec": {
   "display_name": "Python 3",
   "language": "python",
   "name": "python3"
  },
  "language_info": {
   "codemirror_mode": {
    "name": "ipython",
    "version": 3
   },
   "file_extension": ".py",
   "mimetype": "text/x-python",
   "name": "python",
   "nbconvert_exporter": "python",
   "pygments_lexer": "ipython3",
   "version": "3.7.6"
  }
 },
 "nbformat": 4,
 "nbformat_minor": 4
}
