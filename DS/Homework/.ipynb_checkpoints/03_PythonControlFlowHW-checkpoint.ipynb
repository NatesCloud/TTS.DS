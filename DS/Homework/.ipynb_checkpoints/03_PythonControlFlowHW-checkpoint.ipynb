{
 "cells": [
  {
   "cell_type": "markdown",
   "metadata": {},
   "source": [
    "## Travis' Day 3 Homework (2020.09.01)"
   ]
  },
  {
   "cell_type": "markdown",
   "metadata": {},
   "source": [
    "### Exercise 1"
   ]
  },
  {
   "cell_type": "markdown",
   "metadata": {},
   "source": [
    "Guess a number between 1 to 9 given by the user"
   ]
  },
  {
   "cell_type": "code",
   "execution_count": null,
   "metadata": {},
   "outputs": [],
   "source": [
    "#Marissa's Solution and Interpretation:\n",
    "#Import Random Number Generator Library\n",
    "import random\n",
    "\n",
    "target_num, guess_num = random.randint(1, 10), 0\n",
    "while target_num != guess_num:\n",
    "    guess_num = int(input('Guess a number between 1 and 10 until you get it right : '))\n",
    "print('You guessed correct!')"
   ]
  },
  {
   "cell_type": "code",
   "execution_count": null,
   "metadata": {},
   "outputs": [],
   "source": [
    "#Erin McConnell's Solution:\n",
    "guess = 1\n",
    "\n",
    "while guess <10:\n",
    "    answer = input(\"Is your number \" + str(guess) + \"? Enter y for yes, n for no.\")\n",
    "    if answer == \"y\":\n",
    "        print (\"Great!\")\n",
    "        break\n",
    "    guess +=1\n",
    "    if guess == 10:\n",
    "        print(\"You didn't guess a number between 1 and 9. Try again!\")"
   ]
  },
  {
   "cell_type": "code",
   "execution_count": null,
   "metadata": {},
   "outputs": [],
   "source": [
    "#Jonathon Brown's Solution:\n",
    "import random\n",
    "\n",
    "userGuess = int(input(\"Pick a number between 1 and 9 for us to guess\"))\n"
   ]
  },
  {
   "cell_type": "markdown",
   "metadata": {},
   "source": [
    "### Exercise 2"
   ]
  },
  {
   "cell_type": "markdown",
   "metadata": {},
   "source": [
    "Check the validity of password input by the user.\n",
    "\n",
    "Validation:\n",
    "At least 1 letter between [a-z] and 1 letter between [A-Z]\n",
    "\n",
    "At least 1 number between [0-9]\n",
    "\n",
    "At least 1 character from [$#@]\n",
    "\n",
    "Minimum length 6 characters\n",
    "\n",
    "Maximum length 16 characters\n"
   ]
  },
  {
   "cell_type": "code",
   "execution_count": null,
   "metadata": {},
   "outputs": [],
   "source": [
    "#importing the regular expression library so we can use the search function\n",
    "import re\n",
    "\n",
    "p = input(\"Input your password : \") #inputting possible password as 'p'\n",
    "x = True #Setting the default as true as an -invalid- password\n",
    "while x:  \n",
    "    if (len(p)<6 or len(p)>16):\n",
    "        break\n",
    "    elif not re.search(\"[a-z]\",p):\n",
    "        break\n",
    "    elif not re.search(\"[0-9]\",p):\n",
    "        break\n",
    "    elif not re.search(\"[A-Z]\",p):\n",
    "        break\n",
    "    elif not re.search(\"[$#@]\",p):\n",
    "        break\n",
    "    elif re.search(\"\\s\",p):\n",
    "        break\n",
    "    else:\n",
    "        print(\"Valid Password\")\n",
    "        x = False\n",
    "        break\n",
    "\n",
    "if x:\n",
    "    print(\"Not a Valid Password\")\n"
   ]
  },
  {
   "cell_type": "code",
   "execution_count": null,
   "metadata": {},
   "outputs": [],
   "source": [
    "#Jonathon Brown's Solution:\n",
    "validPword = False\n",
    "while validPword == False:\n",
    "    userPword = input(\"Please input a valid password: \")\n",
    "    if len(userPword)<6 or len(userPword)>16:\n",
    "        print(\"not a valid password lenght, Make sure the password is between 6 and 16 characters in length\")"
   ]
  },
  {
   "cell_type": "code",
   "execution_count": 1,
   "metadata": {},
   "outputs": [
    {
     "name": "stdout",
     "output_type": "stream",
     "text": [
      "Enter new password; include uppercase, lowercase, a number, and special character and of length between 6 and 16 characters in length: hello\n",
      "\n",
      "Password Strength: WEAK\n"
     ]
    }
   ],
   "source": [
    "#Emmanuel Dadzie's Solution:\n",
    "user_input = input('Enter new password; include uppercase, lowercase, a number, and special character and of length between 6 and 16 characters in length: ')\n",
    "print()\n",
    "#user_input = \"\"\"Emmanuel@20\"\"\"\n",
    " \n",
    "upper = 'ABCDEFGHIJKLMNOPQRSTUVWXYZ'\n",
    "lower = upper.lower()\n",
    "numbers = '0123456789'\n",
    "char = \"\"\"~!@#$%^&_*-+=(){}[]':;\"/\\`.,<>?| \"\"\"\n",
    "length = len(user_input)\n",
    "\n",
    "verify_upper = 0\n",
    "verify_lower = 0\n",
    "verify_numbers = 0\n",
    "verify_char = 0\n",
    "verify_length = 0\n",
    "\n",
    "for i in user_input:\n",
    "    if i in upper:\n",
    "        verify_upper = 1\n",
    "    if i in lower:\n",
    "        verify_lower = 1\n",
    "    if i in numbers:\n",
    "        verify_numbers = 1\n",
    "    if i in char:\n",
    "        verify_char = 1\n",
    "    if 6 <= length <= 16:\n",
    "        verify_length = 1\n",
    "\n",
    "password_verification = verify_upper + verify_lower + verify_numbers + verify_char + verify_length\n",
    "\n",
    "if 0 <= password_verification <= 2:\n",
    "    print(\"Password Strength: WEAK\")\n",
    "elif 3<= password_verification <= 4:\n",
    "    print(\"Password Strength: MEDIUM\")\n",
    "else:\n",
    "    print(\"Password Strength: STRONG\")\n"
   ]
  },
  {
   "cell_type": "markdown",
   "metadata": {},
   "source": [
    "### Exercise 3"
   ]
  },
  {
   "cell_type": "markdown",
   "metadata": {},
   "source": [
    "Get input of the age of 3 people by user and determine oldest and youngest among them"
   ]
  },
  {
   "cell_type": "code",
   "execution_count": null,
   "metadata": {},
   "outputs": [],
   "source": [
    "#Emmanuel Dadzie's and Group 3's Dictionary Framework\n",
    "user1_name = input('Enter the first person\\'s name: ')\n",
    "user1_age = int(input('Now please enter their age: '))\n",
    "user2_name = input('Enter the second person\\'s name: ')\n",
    "user2_age = int(input('Now please enter their age: '))\n",
    "user3_name = input('Enter the third person\\'s name: ')\n",
    "user3_age = int(input('Now please enter their age: '))\n",
    "\n",
    "#Initially this dictionary was created to evaluate the oldest/youngest amongst them. This is still useful.\n",
    "dict_users ={}\n",
    "dict_users[user1_name] = user1_age\n",
    "dict_users[user2_name] = user2_age\n",
    "dict_users[user3_name] = user3_age\n",
    "\n",
    "\n",
    "\n",
    "#Emmanuel Dadzie's and Group 3's Answer\n",
    "for k, v in dict_users.items():\n",
    "    if v >= max(dict_users.values()):\n",
    "        print(f'{k} is the oldest of the age {v} years')\n",
    "    if v <= min(dict_users.values()):\n",
    "        print(f'{k} is the youngest of the age {v} years')"
   ]
  },
  {
   "cell_type": "markdown",
   "metadata": {},
   "source": [
    "### Exercise 4"
   ]
  },
  {
   "cell_type": "markdown",
   "metadata": {},
   "source": [
    "A student will not be allowed to sit in exam if his/her attendance is less than 75%.\n",
    "\n",
    "Take following input from user:\n",
    "\n",
    "Number of classes held.\n",
    "\n",
    "Number of classes attended.\n",
    "\n",
    "And print percentage of class attended.\n",
    "\n",
    "Is student is allowed to sit in exam or not?"
   ]
  },
  {
   "cell_type": "code",
   "execution_count": null,
   "metadata": {},
   "outputs": [],
   "source": [
    "#Take input on Number of Classes Held, and number of classes attended:\n",
    "class_total = input('Please enter the number of classes held: ')\n",
    "class_attend = input('Thank you. Now please enter the number of classes attended to determine if you will be allowed to sit into the exam: ')\n",
    "\n",
    "#creating a percentage of classes attended divided by the number of classes held\n",
    "attendprop = int(int(class_attend)/int(class_total)*100)\n",
    "aprop = str(attendprop)\n",
    "print ('You have attended ' + class_attend + ' classes out of the total ' + class_total + ' classes held. You have an attendence rate of ' + aprop + '% of classes attended.')\n",
    "if attendprop <0 or attendprop > 100:\n",
    "    print('You have entered an impossible percentage of classes attended')\n",
    "elif attendprop >=75 and attendprop <= 100:\n",
    "    print('Since you have attended at least 75% of the classes held, you will be allowed to sit in on the exam.')\n",
    "elif attendprop <75 and attendprop >=0:\n",
    "    print('Since you have attended less than 75% of the classes held, you will not be allowed to sit in on the exam. Please attend classes more regularly in the future.')"
   ]
  },
  {
   "cell_type": "code",
   "execution_count": 4,
   "metadata": {},
   "outputs": [
    {
     "name": "stdout",
     "output_type": "stream",
     "text": [
      "Number of classes: 1000\n",
      "Number of days attended: 750\n",
      "Good luck on your exam\n"
     ]
    }
   ],
   "source": [
    "#Hannah McCollough's Solution\n",
    "num_class = int(input(\"Number of classes: \"))\n",
    "num_attend = int(input(\"Number of days attended: \"))\n",
    "\n",
    "attendence = num_attend/num_class\n",
    "print (You attended )\n",
    "if attendence < 0.75:\n",
    "    print(\"No exam for you\")\n",
    "if attendence >=0.75:\n",
    "    print(\"Good luck on your exam\")"
   ]
  },
  {
   "cell_type": "markdown",
   "metadata": {},
   "source": [
    "### Exercise 5"
   ]
  },
  {
   "cell_type": "markdown",
   "metadata": {},
   "source": [
    "Get an integer N from the user and perform the following actions:\n",
    "\n",
    "if N is odd, print \"weird\".\n",
    "\n",
    "if N is even and in the inclusive range of 2 to 5, print \"Not Weird\".\n",
    "\n",
    "if N is even and in the inclusive range of 6 to 20, print \"Weird\".\n",
    "\n",
    "if N is even and greater than 20, print \"Not Weird\"."
   ]
  },
  {
   "cell_type": "code",
   "execution_count": 6,
   "metadata": {},
   "outputs": [
    {
     "name": "stdout",
     "output_type": "stream",
     "text": [
      "Please enter an integer N:4\n",
      "Not weird, N seems to be even and in the inclusive range of 2 to 5\n"
     ]
    }
   ],
   "source": [
    "#Get an integer N from the user\n",
    "intN = int(input('Please enter an integer N:'))\n",
    "\n",
    "#if N is odd, print \"weird\"\n",
    "if(intN % 2 != 0):\n",
    "    print('Weird, N seems to be Odd!')\n",
    "\n",
    "#if N is even and in the inclusive range of 2 to 5, print \"Not Weird\"\n",
    "elif(intN % 2 == 0) and (2 <= intN <= 5):\n",
    "    print('Not weird, N seems to be even and in the inclusive range of 2 to 5')\n",
    "\n",
    "#if N is even and in the inclusive range of 6 to 20, print \"Weird\"\n",
    "elif(intN % 2 == 0) and (intN >=6 ) and (intN <= 20):\n",
    "    print('Not weird, N seems to be even and in the inclusive range of 6 to 20')\n",
    "    \n",
    "#if N is even and greater than 20, print \"Not Weird\"\n",
    "elif(intN % 2 == 0) and (intN >20):\n",
    "    print('Not weird, N seems to be even and is greater than 20')"
   ]
  }
 ],
 "metadata": {
  "kernelspec": {
   "display_name": "Python 3",
   "language": "python",
   "name": "python3"
  },
  "language_info": {
   "codemirror_mode": {
    "name": "ipython",
    "version": 3
   },
   "file_extension": ".py",
   "mimetype": "text/x-python",
   "name": "python",
   "nbconvert_exporter": "python",
   "pygments_lexer": "ipython3",
   "version": "3.7.6"
  }
 },
 "nbformat": 4,
 "nbformat_minor": 4
}
