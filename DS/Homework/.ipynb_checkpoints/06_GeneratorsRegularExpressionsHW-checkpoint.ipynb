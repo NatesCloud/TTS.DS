{
 "cells": [
  {
   "cell_type": "markdown",
   "metadata": {},
   "source": [
    "##### Travis' Day 6 Homework (2020.09.08)"
   ]
  },
  {
   "cell_type": "markdown",
   "metadata": {},
   "source": [
    "### Exercise 1: From **[HackerRank](https://www.hackerrank.com/challenges/re-sub-regex-substitution/problem)**:\n",
    "\n",
    "#### Task: \n",
    "You are given a text of N lines. The text contains ` && ` and ` || ` symbols.\n",
    "Your task is to modify the ` && ` symbols to ` and `, and to modify ` || ` to ` or `. Both ` && ` and ` || ` should have a space on both sides.\n",
    "\n",
    "#### Background:\n",
    "The re.sub() tool (sub stands for substitution) evaluates a pattern and, for each valid match, it calls a method (or lambda).\n",
    "The method is called for all matches and can be used to modify strings in different ways.\n",
    "The re.sub() method returns the modified string as an output.\n",
    "\n",
    "#### Input Format: \n",
    "The first line contains the integer, N. The next N lines each contain a line of the text. (0<N<100) Neither && nor || occur in the start or end of each line.\n",
    "\n",
    "#### Sample Input:\n",
    "11\n",
    "a = 1;\n",
    "b = input();\n",
    "\n",
    "if a + b > 0 && a - b < 0:\n",
    "    start()\n",
    "elif a*b > 10 || a/b < 1:\n",
    "    stop()\n",
    "print set(list(a)) | set(list(b)) \n",
    "#Note do not change &&& or ||| or & or |\n",
    "#Only change those '&&' which have space on both sides.\n",
    "#Only change those '|| which have space on both sides.\n",
    "\n",
    "#### Sample Output:\n",
    "a = 1;\n",
    "b = input();\n",
    "\n",
    "if a + b > 0 and a - b < 0:\n",
    "    start()\n",
    "elif a*b > 10 or a/b < 1:\n",
    "    stop()\n",
    "print set(list(a)) | set(list(b)) \n",
    "#Note do not change &&& or ||| or & or |\n",
    "#Only change those '&&' which have space on both sides.\n",
    "#Only change those '|| which have space on both sides.   "
   ]
  },
  {
   "cell_type": "code",
   "execution_count": null,
   "metadata": {},
   "outputs": [],
   "source": [
    "#My solution with help formatting from Gabe Smith (and help understanding re.compile being used as the pattern for re.sub)\n",
    "from sys import stdin\n",
    "import re\n",
    "p = re.compile(r'(?<= )&&(?= )', re.IGNORECASE)\n",
    "g = re.compile(r'(?<= )\\|\\|(?= )', re.IGNORECASE)\n",
    "lines = stdin.read().splitlines()\n",
    "lines.pop(0)\n",
    "for i in range(len(lines)):\n",
    "    lines[i] = re.sub(p, \"and\", lines[i])\n",
    "    lines[i] = re.sub(g, \"or\", lines[i])\n",
    "for i in lines:\n",
    "    print(i)"
   ]
  },
  {
   "cell_type": "markdown",
   "metadata": {},
   "source": [
    "### Exercise 2: From **[HackerRank](https://www.hackerrank.com/challenges/validating-named-email-addresses/problem)**:\n",
    "\n",
    "#### Task:\n",
    "Given n pairs of names and email addresses as input, print each name and email address pair having a valid email address on a new line. (Try using email.utils() to complete this challenge:\n",
    "\n",
    "#### Background:\n",
    "A valid email address meets the following criteria:\n",
    "\n",
    "It's composed of a username, domain name, and extension assembled in this format: username@domain.extension\n",
    "The username starts with an English alphabetical character, and any subsequent characters consist of one or more of the following: alphanumeric characters, -,., and _.\n",
    "The domain and extension contain only English alphabetical characters.\n",
    "The extension is 1, 2, or 3 characters in length.\n",
    "\n",
    "#### Input Format:\n",
    "The first line contains a single integer, n, denoting the number of email address. (0<n<100)\n",
    "Each line  of the  subsequent lines contains a name and an email address as two space-separated values.\n",
    "\n",
    "#### Sample Input:\n",
    "2  \n",
    "DEXTER <dexter@hotmail.com>\n",
    "VIRUS <virus!@variable.:p>\n",
    "\n",
    "#### Sample Output:\n",
    "DEXTER <dexter@hotmail.com>"
   ]
  },
  {
   "cell_type": "code",
   "execution_count": null,
   "metadata": {},
   "outputs": [],
   "source": [
    "#We want to match the email structure here with the first four bullet points in order for it to be valid and efficient.\n",
    "import re\n",
    "\n",
    "lines = int(input())\n",
    "\n",
    "validemail = re.compile(r'<[a-zA-Z][\\w.-]+@[a-zA-Z]+\\.[a-zA-Z]{1,3}')\n",
    "\n",
    "for x in range(lines):\n",
    "    name,address = input().split()\n",
    "    #calling re.match using validemail due to valid email being a regex\n",
    "    if (validemail.match(address)):\n",
    "        print(name,address)"
   ]
  },
  {
   "cell_type": "code",
   "execution_count": null,
   "metadata": {},
   "outputs": [],
   "source": []
  }
 ],
 "metadata": {
  "kernelspec": {
   "display_name": "Python 3",
   "language": "python",
   "name": "python3"
  },
  "language_info": {
   "codemirror_mode": {
    "name": "ipython",
    "version": 3
   },
   "file_extension": ".py",
   "mimetype": "text/x-python",
   "name": "python",
   "nbconvert_exporter": "python",
   "pygments_lexer": "ipython3",
   "version": "3.7.6"
  }
 },
 "nbformat": 4,
 "nbformat_minor": 4
}
