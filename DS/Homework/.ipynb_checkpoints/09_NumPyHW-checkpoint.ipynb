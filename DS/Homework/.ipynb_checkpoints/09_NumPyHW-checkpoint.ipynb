{
 "cells": [
  {
   "cell_type": "markdown",
   "metadata": {},
   "source": [
    "##### Travis' Day 2 Homework (2020.09.17)"
   ]
  },
  {
   "cell_type": "markdown",
   "metadata": {},
   "source": [
    "### Exercise 1: From **[HackerRank](https://www.hackerrank.com/challenges/np-arrays/problem)**:\n",
    "\n",
    "#### Task: \n",
    "You are given a space separated list of numbers.\n",
    "Your task is to print a reversed NumPy array with the element type float.\n",
    "\n",
    "#### Background:\n",
    "The NumPy (Numeric Python) package helps us manipulate large arrays and matrices of numeric data.\n",
    "\n",
    "To use the NumPy module, we need to import it using:\n",
    "`import numpy`\n",
    "\n",
    "A NumPy array is a grid of values. They are similar to lists, except that every element of an array must be the same type.\n",
    "```\n",
    "import numpy\n",
    "\n",
    "a = numpy.array([1,2,3,4,5])\n",
    "print a[1]          #2\n",
    "\n",
    "b = numpy.array([1,2,3,4,5],float)\n",
    "print b[1]          #2.0\n",
    "```\n",
    "In the above example, numpy.array() is used to convert a list into a NumPy array. The second argument (float) can be used to set the type of array elements.\n",
    "\n",
    "#### Input Format: \n",
    "A single line of input containing space separated numbers.\n",
    "\n",
    "#### Sample Input:\n",
    "1 2 3 4 -8 -10\n",
    "\n",
    "#### Sample Output:\n",
    "[-10.  -8.   4.   3.   2.   1.]\n"
   ]
  },
  {
   "cell_type": "code",
   "execution_count": 2,
   "metadata": {},
   "outputs": [
    {
     "name": "stdout",
     "output_type": "stream",
     "text": [
      "1 2 3 4 -8 -10\n",
      "[-10.  -8.   4.   3.   2.   1.]\n"
     ]
    }
   ],
   "source": [
    "import numpy\n",
    "\n",
    "def arrays(arr):\n",
    "    arr = numpy.array(arr,float)\n",
    "    arr = arr[ ::-1]\n",
    "    return arr\n",
    "    numpy.array\n",
    "\n",
    "arr = input().strip().split(' ')\n",
    "result = arrays(arr)\n",
    "print(result)"
   ]
  },
  {
   "cell_type": "markdown",
   "metadata": {},
   "source": [
    "### Exercise 2: From **[HackerRank](https://www.hackerrank.com/challenges/np-polynomials/problem)**:\n",
    "\n",
    "#### Task: \n",
    "You are given the coefficients of a polynomial P.\n",
    "Your task is to find the value of P at point x.\n",
    "\n",
    "#### Background:\n",
    "The polyval tool evaluates the polynomial at specific value:\n",
    "`print numpy.polyval([1, -2, 0, 2], 4)   #Output : 34`\n",
    "\n",
    "#### Input Format: \n",
    "The first line contains the space separated value of the coefficients in P.\n",
    "The second line contains the value of x.\n",
    "\n",
    "#### Sample Input:\n",
    "1.1 2 3\n",
    "0\n",
    "\n",
    "#### Sample Output:\n",
    "3.0"
   ]
  },
  {
   "cell_type": "code",
   "execution_count": null,
   "metadata": {},
   "outputs": [],
   "source": [
    "import numpy as np\n",
    "\n",
    "listed = list(map(float,input().split()))\n",
    "xval = float(input())\n",
    "print(np.polyval(listed, xval))"
   ]
  }
 ],
 "metadata": {
  "kernelspec": {
   "display_name": "Python 3",
   "language": "python",
   "name": "python3"
  },
  "language_info": {
   "codemirror_mode": {
    "name": "ipython",
    "version": 3
   },
   "file_extension": ".py",
   "mimetype": "text/x-python",
   "name": "python",
   "nbconvert_exporter": "python",
   "pygments_lexer": "ipython3",
   "version": "3.7.6"
  }
 },
 "nbformat": 4,
 "nbformat_minor": 4
}
