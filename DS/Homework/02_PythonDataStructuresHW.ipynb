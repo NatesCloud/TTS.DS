{
 "cells": [
  {
   "cell_type": "markdown",
   "metadata": {},
   "source": [
    "## Travis' Day 2 Homework (2020.08.20)"
   ]
  },
  {
   "cell_type": "markdown",
   "metadata": {},
   "source": [
    "### Exercise 1"
   ]
  },
  {
   "cell_type": "markdown",
   "metadata": {},
   "source": [
    "In mathematics, the quadratic equation ax2+bx+c=0 can be solved with the formula x=−b±b2−4ac√2a.\n",
    "\n",
    "Write a function solve_quadratic, that returns both solutions of a generic quadratic as a pair (2-tuple) when the coefficients are given as parameters. It should work like this:\n",
    "\n",
    "print(solve_quadratic(1,-3,2))\n",
    "(2.0,1.0)\n",
    "print(solve_quadratic(1,2,1))\n",
    "(-1.0,-1.0)\n",
    "\n",
    "You may want to use the math.sqrt function from the math module in your solution. Test that your function works in the main function!"
   ]
  },
  {
   "cell_type": "code",
   "execution_count": 4,
   "metadata": {},
   "outputs": [
    {
     "name": "stdout",
     "output_type": "stream",
     "text": [
      "(-1.0, -1.0)\n"
     ]
    }
   ],
   "source": [
    "import math #imports Math library of functions for math.sqrt\n",
    "\n",
    "def solve_quadratic (a,b,c): #defines new function solve_quadratic\n",
    "    add_sol = ((-b + math.sqrt(b**2 - (4*a*c)))/(2*a)) #creates pos solution\n",
    "    sub_sol = ((-b - math.sqrt(b**2 - (4*a*c)))/(2*a)) #creates neg solution\n",
    "    \n",
    "    sol = (add_sol, sub_sol) #concatenate both solutions together\n",
    "    return sol\n",
    "\n",
    "print(solve_quadratic(1,2,1)) #take in tuple (1,2,1) and print solution\n",
    "\n",
    "#Marcus Vasquez' Solution"
   ]
  },
  {
   "cell_type": "markdown",
   "metadata": {},
   "source": [
    "### Exercise 2"
   ]
  },
  {
   "cell_type": "markdown",
   "metadata": {},
   "source": [
    "Get a space-separated list of integers from the user, create a tuple of those integers. Then compute and print the result of hash(tuple).\n",
    "\n",
    "Documentation: https://docs.python.org/3/library/functions.html#hash"
   ]
  },
  {
   "cell_type": "code",
   "execution_count": 18,
   "metadata": {},
   "outputs": [],
   "source": [
    "#intInput = str(input(\"Please enter a space-separated list of integers:\"))\n",
    "#print(intInput[::2])\n",
    "#print(hash(tuple(intInput[::2])))\n",
    "#print(hash(1234))\n",
    "\n",
    "#Marissa's Solution\n",
    "listOne = list(map(int, input(\"Please enter a list of space separated integers: \").split()))#split method the input by spaces into integers\n",
    "#map function: research\n",
    "tupleOne = tuple(listOne)\n",
    "print(tupleOne)\n",
    "print(hash(tupleOne))\n"
   ]
  },
  {
   "cell_type": "markdown",
   "metadata": {},
   "source": [
    "### Exercise 3"
   ]
  },
  {
   "cell_type": "markdown",
   "metadata": {},
   "source": [
    "Take the following two lists. Create a third list by picking a odd-index elements from the first list and even-index elements from the second.\n",
    "\n",
    "listOne = [3, 6, 9, 12, 15, 18, 21]\n",
    "\n",
    "listTwo = [4, 8, 12, 16, 20, 24, 28]"
   ]
  },
  {
   "cell_type": "code",
   "execution_count": 11,
   "metadata": {},
   "outputs": [
    {
     "name": "stdout",
     "output_type": "stream",
     "text": [
      "[6, 12, 18, 4, 12, 20, 28]\n"
     ]
    }
   ],
   "source": [
    "#index     0  1  2  3   4    5   6\n",
    "listOne = [3, 6, 9, 12, 15, 18, 21]\n",
    "listTwo = [4, 8, 12, 16, 20, 24, 28]\n",
    "\n",
    "listThree = listOne[1::2]#starting with index 1 we are adding every other element from listOne into list 3\n",
    "listThree+= listTwo[::2]#here we start inherently with index 0, and then add every other element from listTwo\n",
    "\n",
    "print(listThree)"
   ]
  },
  {
   "cell_type": "markdown",
   "metadata": {},
   "source": [
    "### Exercise 4"
   ]
  },
  {
   "cell_type": "markdown",
   "metadata": {},
   "source": [
    "Take the following list and slice it into three equal chunks and reverse each list\n",
    "sampleList = [11, 45, 8, 23, 14, 12, 78, 45, 89]"
   ]
  },
  {
   "cell_type": "code",
   "execution_count": 15,
   "metadata": {
    "scrolled": true
   },
   "outputs": [
    {
     "name": "stdout",
     "output_type": "stream",
     "text": [
      "[89, 12, 8]\n",
      "[45, 14, 45]\n",
      "[78, 23, 11]\n"
     ]
    }
   ],
   "source": [
    "sampleList = [11, 45, 8, 23, 14, 12, 78, 45, 89] #9 item list\n",
    "L1=sampleList[8::-3] #starting with index 8(last item) take every 3rd item (going backwards)\n",
    "L2=sampleList[7::-3]\n",
    "L3=sampleList[6::-3]\n",
    "print(L1)\n",
    "print(L2)\n",
    "print(L3)"
   ]
  },
  {
   "cell_type": "markdown",
   "metadata": {},
   "source": [
    "### Exercise 5"
   ]
  },
  {
   "cell_type": "markdown",
   "metadata": {},
   "source": [
    "Iterate through a given list and check if a given element already exists in a dictionary as a key’s value. If not, delete it from the list.\n",
    "\n",
    "rollNumber = [47, 64, 69, 37, 76, 83, 95, 97]\n",
    "\n",
    "sampleDict ={'Zach':47, 'Emma':69, 'Kelly':76, 'Jason':97}"
   ]
  },
  {
   "cell_type": "code",
   "execution_count": 11,
   "metadata": {},
   "outputs": [
    {
     "name": "stdout",
     "output_type": "stream",
     "text": [
      "[47, 69, 76, 97]\n"
     ]
    }
   ],
   "source": [
    "rollNumber = [47, 64, 69, 37, 76, 83, 95, 97]\n",
    "\n",
    "sampleDict ={'Zach':47, 'Emma':69, 'Kelly':76, 'Jason':97}\n",
    "\n",
    "#Incorrect solution: #removing values in an iterable while iterating through it is causing this to skip values, therefor impliment a tracking list\n",
    "#for i in rollNumber: #iterate through rollNumber list\n",
    "#    if i not in sampleDict.values(): #compare i to dictionary key values\n",
    "#        rollNumber.remove(i) #remove element from list\n",
    "#print(rollNumber)  \n",
    "\n",
    "tracking = []\n",
    "for i in rollNumber: #iterate through rollNumber list\n",
    "    if i not in sampleDict.values(): #compare i to dictionary key values\n",
    "        tracking.append(i)\n",
    "for j in tracking: #iterate through tracking list\n",
    "    if j in rollNumber:\n",
    "        rollNumber.remove(j)\n",
    "print(rollNumber)\n",
    "\n",
    "#Emmanuel Dadzie's Solution\n",
    "#for i in [x for x in rollNumber]:\n",
    "#    if i not in sampleDict.values():\n",
    "#        rollNumber.remove(i)\n",
    "#        print(\"Removed (%s)\" %i)\n",
    "#    else:\n",
    "#        print(\"Skipped %s\" %i)\n",
    "#        continue\n",
    "#print()\n",
    "#print(\"Final list:\", rollNumber)        "
   ]
  }
 ],
 "metadata": {
  "kernelspec": {
   "display_name": "Python 3",
   "language": "python",
   "name": "python3"
  },
  "language_info": {
   "codemirror_mode": {
    "name": "ipython",
    "version": 3
   },
   "file_extension": ".py",
   "mimetype": "text/x-python",
   "name": "python",
   "nbconvert_exporter": "python",
   "pygments_lexer": "ipython3",
   "version": "3.7.6"
  }
 },
 "nbformat": 4,
 "nbformat_minor": 4
}
