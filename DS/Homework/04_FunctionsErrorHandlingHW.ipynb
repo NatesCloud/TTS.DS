{
 "cells": [
  {
   "cell_type": "markdown",
   "metadata": {},
   "source": [
    "## Travis' Day 4 Homework (2020.09.02)"
   ]
  },
  {
   "cell_type": "markdown",
   "metadata": {},
   "source": [
    "### Exercise 1: From HackerRank:\n",
    "https://www.hackerrank.com/challenges/write-a-function/problem\n",
    "\n",
    "#### Task:\n",
    "Given a year, determine whether it is a leap year. If it is a leap year, return the Boolean True, otherwise return False.\n",
    "\n",
    "#### Background:\n",
    "An extra day is added to the calendar almost every four years as February 29, and the day is called a leap day. It corrects the calendar for the fact that our planet takes approximately 365.25 days to orbit the sun. A leap year contains a leap day.\n",
    "\n",
    "In the Gregorian calendar, three conditions are used to identify leap years:\n",
    "\n",
    "-The year can be evenly divided by 4, is a leap year, unless:\n",
    "\n",
    "-The year can be evenly divided by 100, it is NOT a leap year, unless:\n",
    "\n",
    "-The year is also evenly divisible by 400. Then it is a leap year.\n",
    "\n",
    "This means that in the Gregorian calendar, the years 2000 and 2400 are leap years, while 1800, 1900, 2100, 2200, 2300 and 2500 are NOT leap years. (http://www.timeanddate.com/date/leapyear.html)\n",
    "\n",
    "#### Input Format:\n",
    "STDIN year (given from 1900<=year<=10**5)"
   ]
  },
  {
   "cell_type": "code",
   "execution_count": null,
   "metadata": {},
   "outputs": [],
   "source": [
    "#My Solution (Works with HackerRank Given Input)\n",
    "\n",
    "def is_leap(year):\n",
    "    leap = False\n",
    "    if not 1900<=year<=10**5:\n",
    "        return leap\n",
    "    if year % 4 ==0:\n",
    "        leap = True\n",
    "        if year % 100 == 0:\n",
    "            leap = False\n",
    "            if year % 400 == 0:\n",
    "                leap = True\n",
    "\n",
    "    # Write your logic here\n",
    "    \n",
    "    return leap\n",
    "\n",
    "year = int(input())\n",
    "print(is_leap(year))"
   ]
  },
  {
   "cell_type": "markdown",
   "metadata": {},
   "source": [
    "### Exercise 2: From HackerRank:\n",
    "https://www.hackerrank.com/challenges/exceptions/problem\n",
    "\n",
    "#### Task:\n",
    "You are given two values, a and b. Perform integer division and print a/b.\n",
    "\n",
    "#### Background:\n",
    "Errors detected during execution are called exceptions. Some notable and applicable examples are ZeroDivisionError, and ValueErrors, which occur when dividing by zero or taking the modulo operator with a base 0; and when a built in function receives an argument that has the right type, but an inappropriate value.\n",
    "\n",
    "These Exceptions are handled in try-except code blocks.\n",
    "\n",
    "#### Input Format:\n",
    "The first line contains T number of test cases (0<T<10), and the next T lines contain space-sep values of a and b. eg:\n",
    "3\n",
    "1 0\n",
    "2 ^\n",
    "3 1\n",
    "\n",
    "#### Sample Output:\n",
    "Error Code: integer division or modulo by zero\n",
    "Error Code: invalid literal for int() with base 10: '$'\n",
    "3"
   ]
  },
  {
   "cell_type": "code",
   "execution_count": null,
   "metadata": {},
   "outputs": [],
   "source": [
    "# My Solution (Works for the known Given Inputs on HackerRank)\n",
    "line = int(input())\n",
    "\n",
    "for i in range(0,line):\n",
    "    try:\n",
    "        a, b = map(int, input().split())\n",
    "        print(a//b)\n",
    "    except ZeroDivisionError:\n",
    "        print (\"Error Code: integer division or modulo by zero\")\n",
    "    except ValueError:\n",
    "        print (\"Error Code: invalid literal for int() with base 10: '$'\")"
   ]
  }
 ],
 "metadata": {
  "kernelspec": {
   "display_name": "Python 3",
   "language": "python",
   "name": "python3"
  },
  "language_info": {
   "codemirror_mode": {
    "name": "ipython",
    "version": 3
   },
   "file_extension": ".py",
   "mimetype": "text/x-python",
   "name": "python",
   "nbconvert_exporter": "python",
   "pygments_lexer": "ipython3",
   "version": "3.7.6"
  }
 },
 "nbformat": 4,
 "nbformat_minor": 4
}
