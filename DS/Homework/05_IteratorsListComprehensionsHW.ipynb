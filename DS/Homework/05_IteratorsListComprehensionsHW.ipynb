{
 "cells": [
  {
   "cell_type": "markdown",
   "metadata": {},
   "source": [
    "##### Travis' Day 5 Homework (2020.09.08)"
   ]
  },
  {
   "cell_type": "markdown",
   "metadata": {},
   "source": [
    "### Exercise 1: From **[HackerRank](https://www.hackerrank.com/challenges/itertools-product/problem)**:\n",
    "\n",
    "#### Task:\n",
    "You are given a two lists  and . Your task is to compute their cartesian product X.\n",
    "\n",
    "#### Background:\n",
    "itertools.product()\n",
    "\n",
    "This tool computes the cartesian product of input iterables.\n",
    "It is equivalent to nested for-loops.\n",
    "For example, product(A, B) returns the same as ((x,y) for x in A for y in B).\n",
    "\n",
    "#### Input Format:\n",
    "The first line contains the space separated elements of list A.\n",
    "The second line contains the space separated elements of list B.\n",
    "\n",
    "Both lists have no duplicate integer elements. (0<A<30, 0<B<30).\n",
    "Eg: \n",
    "A = [1, 2]\n",
    "B = [3, 4]"
   ]
  },
  {
   "cell_type": "code",
   "execution_count": 2,
   "metadata": {},
   "outputs": [
    {
     "name": "stdout",
     "output_type": "stream",
     "text": [
      "1 2\n",
      "2\n",
      "(1, 2) (2, 2)\n"
     ]
    }
   ],
   "source": [
    "#My solution\n",
    "# Enter your code here. Read input from STDIN. Print output to STDOUT\n",
    "from itertools import product\n",
    "\n",
    "A = list(map(int, input().split()))\n",
    "B = list(map(int, input().split())) \n",
    "p = product(A,B) #p = [(i,j) for i in A for j in B] also works\n",
    "print(*p)"
   ]
  },
  {
   "cell_type": "markdown",
   "metadata": {},
   "source": [
    "### Exercise 2: From **[HackerRank](https://www.hackerrank.com/challenges/itertools-permutations/problem)**:\n",
    "\n",
    "#### Task:\n",
    "You are given a string S.\n",
    "Your task is to print all possible permutations of size  of the string in lexicographic sorted order.\n",
    "\n",
    "#### Background:\n",
    "itertools.permutations(iterable[, r])\n",
    "\n",
    "This tool returns successive  length permutations of elements in an iterable.\n",
    "\n",
    "If  is not specified or is None, then  defaults to the length of the iterable, and all possible full length permutations are generated.\n",
    "\n",
    "Permutations are printed in a lexicographic sorted order. So, if the input iterable is sorted, the permutation tuples will be produced in a sorted order.\n",
    "\n",
    "#### Input Format:\n",
    "A single line containing the space separated string S and the integer value K. (0<k<=len(S)) eg: HACK 2"
   ]
  },
  {
   "cell_type": "code",
   "execution_count": 1,
   "metadata": {},
   "outputs": [
    {
     "name": "stdout",
     "output_type": "stream",
     "text": [
      "HACK 2\n",
      "AC\n",
      "AH\n",
      "AK\n",
      "CA\n",
      "CH\n",
      "CK\n",
      "HA\n",
      "HC\n",
      "HK\n",
      "KA\n",
      "KC\n",
      "KH\n"
     ]
    }
   ],
   "source": [
    "#My solution (Edited to Stephanie Farid's Format)\n",
    "from itertools import permutations\n",
    "\n",
    "def allPerms(str, num):\n",
    "    S = list(permutations(str,int(num)))\n",
    "    S.sort()\n",
    "\n",
    "    for k in list(S):\n",
    "        print(''.join(k))\n",
    "\n",
    "if __name__ == \"__main__\":\n",
    "    str, num = input().split(' ')\n",
    "    allPerms(str, num)"
   ]
  },
  {
   "cell_type": "markdown",
   "metadata": {},
   "source": [
    "### Exercise 3: From **[HackerRank](https://www.hackerrank.com/challenges/itertools-combinations-with-replacement/problem)**:\n",
    "\n",
    "#### Task:\n",
    "You are given a string S.\n",
    "Your task is to print all possible size K replacement combinations of the string in lexicographic sorted order.\n",
    "\n",
    "#### Background:\n",
    "itertools.combinations_with_replacement(iterable, r)\n",
    "This tool returns  length subsequences of elements from the input iterable allowing individual elements to be repeated more than once.\n",
    "\n",
    "Combinations are emitted in lexicographic sorted order. So, if the input iterable is sorted, the combination tuples will be produced in sorted order.\n",
    "\n",
    "#### Input:\n",
    "A single line containing the string S and integer value K separated by a space. (0<K<=len(S)) eg: HACK 2"
   ]
  },
  {
   "cell_type": "code",
   "execution_count": null,
   "metadata": {},
   "outputs": [],
   "source": [
    "#My solution(edited to Madison Shi's Format)\n",
    "from itertools import combinations_with_replacement\n",
    "word, num = input().split(' ')\n",
    "num = int(num)\n",
    "\n",
    "L = list(combinations_with_replacement(word, num))\n",
    "\n",
    "R = []\n",
    "for i in L:\n",
    "    results = \"\"\n",
    "    i = sorted(i)\n",
    "    for v in i:\n",
    "        results += v\n",
    "    R.append(results)\n",
    "\n",
    "R.sort()\n",
    "for i in R:\n",
    "    print(i)"
   ]
  }
 ],
 "metadata": {
  "kernelspec": {
   "display_name": "Python 3",
   "language": "python",
   "name": "python3"
  },
  "language_info": {
   "codemirror_mode": {
    "name": "ipython",
    "version": 3
   },
   "file_extension": ".py",
   "mimetype": "text/x-python",
   "name": "python",
   "nbconvert_exporter": "python",
   "pygments_lexer": "ipython3",
   "version": "3.7.6"
  }
 },
 "nbformat": 4,
 "nbformat_minor": 4
}
