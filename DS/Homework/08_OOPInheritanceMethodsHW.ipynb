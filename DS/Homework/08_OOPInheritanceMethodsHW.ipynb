{
 "cells": [
  {
   "cell_type": "markdown",
   "metadata": {},
   "source": [
    "##### Travis' Day 8 Homework (2020.09.18)"
   ]
  },
  {
   "cell_type": "markdown",
   "metadata": {},
   "source": [
    "# Inheritance Exercise"
   ]
  },
  {
   "cell_type": "markdown",
   "metadata": {},
   "source": [
    "Complete the following exercise and upload your script:\n",
    "\n",
    "You are given two classes, Person and Student, where Person is the base class and Student is the derived class. Completed code for Person and a declaration for Student are provided for you in the editor. Observe that Student inherits all the properties of Person.\n",
    "\n",
    "Complete the Student class by writing the following:\n",
    "A Student class constructor, which has 4 parameters:\n",
    "- A string, firstName\n",
    "- A string, lastName\n",
    "- An integer, id\n",
    "An integer array (or vector) of test scores, scores\n",
    "\n",
    "A char calculate() method that calculates a Student object's average and returns the grade character representative of their calculated average:\n",
    "\n",
    "A | 90-100\n",
    "\n",
    "B | 80-89\n",
    "\n",
    "C | 70-79\n",
    "\n",
    "D | 60-69\n",
    "\n",
    "F | <60"
   ]
  },
  {
   "cell_type": "markdown",
   "metadata": {},
   "source": [
    "Sample Output:\n",
    "\n",
    "First name: Travis\n",
    "\n",
    "Last name: Ahalt\n",
    "\n",
    "Student ID: 724\n",
    "\n",
    "Enter a list grades separated by space: 80 50 90 75 85\n",
    "\n",
    "Travis Ahalt.\n"
   ]
  },
  {
   "cell_type": "code",
   "execution_count": 1,
   "metadata": {},
   "outputs": [
    {
     "name": "stdout",
     "output_type": "stream",
     "text": [
      "First name: Travis\n",
      "Last name: Ahalt\n",
      "Student ID: 724\n",
      "Enter a list grades separated by space: 90 89\n",
      "Travis Ahalt Student ID 724, you got a B.\n"
     ]
    }
   ],
   "source": [
    "class Person:\n",
    "    \n",
    "    def __init__(self,fname,lname):\n",
    "        self.fname = fname\n",
    "        self.lname = lname\n",
    "        \n",
    "class Student(Person):\n",
    "    \n",
    "    def __init__(self, fname, lname, student_id):\n",
    "        self.id = int(student_id)\n",
    "        Person.__init__(self, fname, lname)\n",
    "        \n",
    "    def calculate(self,list):\n",
    "        points = 0\n",
    "        total = len(list)\n",
    "        \n",
    "        for num in list:\n",
    "            points = points + num\n",
    "        gpa = points//total\n",
    "        if gpa >= 90 and gpa <= 100:\n",
    "            print(self.fname + \" \" + self.lname + \" \" + \"Student ID \" + str(self.id) + \", you got an A.\")\n",
    "        elif gpa >= 80 and gpa < 90:\n",
    "            print(self.fname + \" \" + self.lname + \" \" + \"Student ID \" + str(self.id) + \", you got a B.\")\n",
    "        elif gpa >= 70 and gpa < 80:\n",
    "            print(self.fname + \" \" + self.lname + \" \" + \"Student ID \" + str(self.id) + \", you got a C.\")\n",
    "        elif gpa >= 60 and gpa < 70:\n",
    "            print(self.fname + \" \" + self.lname + \" \" + \"Student ID \" + str(self.id) + \", you got a D.\")\n",
    "        elif gpa < 60:\n",
    "            print(self.fname + \" \" + self.lname + \" \" + \"Student ID \" + str(self.id) + \", you got an F.\")\n",
    "        else:\n",
    "            print('Please exit the program and run it with a valid set of scores')\n",
    "            \n",
    "person1 = Student(str(input(\"First name: \")),str(input(\"Last name: \")), int(input(\"Student ID: \")))\n",
    "grades = input(\"Enter a list grades separated by space: \")\n",
    "grades = list(map(int, grades.split()))\n",
    "person1.calculate(grades)"
   ]
  }
 ],
 "metadata": {
  "kernelspec": {
   "display_name": "Python 3",
   "language": "python",
   "name": "python3"
  },
  "language_info": {
   "codemirror_mode": {
    "name": "ipython",
    "version": 3
   },
   "file_extension": ".py",
   "mimetype": "text/x-python",
   "name": "python",
   "nbconvert_exporter": "python",
   "pygments_lexer": "ipython3",
   "version": "3.7.6"
  }
 },
 "nbformat": 4,
 "nbformat_minor": 4
}
