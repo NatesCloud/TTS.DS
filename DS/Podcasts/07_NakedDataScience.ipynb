{
 "cells": [
  {
   "cell_type": "markdown",
   "metadata": {},
   "source": [
    "# Naked Data Science - Do Real Data Science Work\n",
    "\n",
    "#### Summary:\n",
    "The fifth podcast for TTS 2020.08.18's DS Course is Do Real Data Science Work, by Naked Data Science, a conversation about what real data science work is, the data science arms race, an unpopular definition of data science work, what you will miss out if you only read data science blog posts, how you can have the best data and create no impact, what data scientists in business can learn from academics, how to avoid one of the biggest mistake you can make as a data scientist, and how to cultivate advocates of your work.\n",
    "\n",
    "#### Thoughts:\n",
    "This is the practical knowledge for getting into the field of work that I have been curious about. This podcast certainly helped inform me and get me thinking about some of the more applied options moving forward with DS. It is interesting that they describe the type of person who becomes a data scientist, juxtaposed with why we need data scientists.\n",
    "\n",
    "**[Spotify Link](https://open.spotify.com/episode/20F0ZXIvGiJx0oOfVIQWHc?si=hRvJd02yTVqH5OAv9b4wVg)**\n",
    "\n",
    "**[NakedDataScience](http://www.nds.show/879202/2815519-2-do-real-data-science-work)**\n",
    "\n",
    "**[ApplePodcasts](https://podcasts.apple.com/us/podcast/naked-data-science/id1499285090)**"
   ]
  }
 ],
 "metadata": {
  "kernelspec": {
   "display_name": "Python 3",
   "language": "python",
   "name": "python3"
  },
  "language_info": {
   "codemirror_mode": {
    "name": "ipython",
    "version": 3
   },
   "file_extension": ".py",
   "mimetype": "text/x-python",
   "name": "python",
   "nbconvert_exporter": "python",
   "pygments_lexer": "ipython3",
   "version": "3.7.6"
  }
 },
 "nbformat": 4,
 "nbformat_minor": 4
}
