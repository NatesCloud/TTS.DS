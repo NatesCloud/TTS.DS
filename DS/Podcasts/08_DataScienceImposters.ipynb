{
 "cells": [
  {
   "cell_type": "markdown",
   "metadata": {},
   "source": [
    "# Data Science Imposters - Did AI write this blog or was it Liam?\n",
    "\n",
    "#### Summary:\n",
    "The sixth podcast for TTS 2020.08.18's DS Course isDid AI write this blog or was it Liam? by Data Science Imposters: Here is their description: \n",
    "`Liam Porr wrote ‘Feeling Unproductive? Maybe you should stop overthinking’ The post had thousands of visitors and made it to the top of some blogging site. Liam did come up with the title and some of the text but he didn’t do it alone. Liam had help from GPT-3. GPT-3 is the latest readily available natural language processing technology.\n",
    "Should we be worried that our podcast will soon be obsolete? NLP to sound and we’re done.`\n",
    "\n",
    "#### Thoughts:\n",
    "This reminds me of the \"I made an AI watch 1000hrs of ___ , and here is what it came up with:\" type articles.\n",
    "\n",
    "**[SpotifyLink](https://open.spotify.com/episode/53zRbBSgbui1n5K5aMFuKH?si=lPI9MR1aSAiu_Js72LmtEw)**\n",
    "\n",
    "**[DataScienceImposters](https://datascienceimposters.com/)**\n",
    "\n",
    "**[ApplePodcasts](https://podcasts.apple.com/us/podcast/data-science-imposters-podcast/id1249728040?ls=1&mt=2#episodeGuid=https%3A%2F%2Fdatascienceimposters.com%2F%3Fp%3D614)**\n",
    "\n",
    "**[Android](https://subscribeonandroid.com/datascienceimposters.com/feed/podcast/)**\n",
    "\n",
    "**[Download](https://traffic.libsyn.com/secure/datascienceimposters/DSI_Episode_97.mp3)**"
   ]
  }
 ],
 "metadata": {
  "kernelspec": {
   "display_name": "Python 3",
   "language": "python",
   "name": "python3"
  },
  "language_info": {
   "codemirror_mode": {
    "name": "ipython",
    "version": 3
   },
   "file_extension": ".py",
   "mimetype": "text/x-python",
   "name": "python",
   "nbconvert_exporter": "python",
   "pygments_lexer": "ipython3",
   "version": "3.7.6"
  }
 },
 "nbformat": 4,
 "nbformat_minor": 4
}
